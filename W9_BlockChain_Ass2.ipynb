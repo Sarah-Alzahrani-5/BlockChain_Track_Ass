{
 "cells": [
  {
   "cell_type": "code",
   "execution_count": 1,
   "id": "d03f0a8f-6559-4fd1-9f70-eec278be5040",
   "metadata": {},
   "outputs": [],
   "source": [
    "import json\n",
    "import hashlib\n",
    "import time"
   ]
  },
  {
   "cell_type": "code",
   "execution_count": 2,
   "id": "c708c3e1-64dd-4510-bdc1-e7bb5cc99d18",
   "metadata": {},
   "outputs": [],
   "source": [
    "tx_1 = {\n",
    "   \"addr_from\": \"3J98t1WpEZ73CNmQviecrnyiWrnqRhWNLy\",\n",
    "   \"addr_to\": \"1BvBMSEYstWetqTFn5Au4m4GFg7xJaNVN2\",   \n",
    "   \"amount\": 55.00\n",
    "}\n",
    "\n",
    "tx_2 = {\n",
    "   \"addr_from\": \"1BvBMSEYstWetqTFn5Au4m4GFg7xJaNVN2\",\n",
    "   \"addr_to\": \"3J98t1WpEZ73CNmQviecrnyiWrnqRhWNLy\",   \n",
    "   \"amount\": 55.00\n",
    "}\n",
    "tx_3 = {\n",
    "   \"addr_from\": \"FintechStudentAddr\",\n",
    "   \"addr_to\": \"BlackBelts\",   \n",
    "   \"amount\": 5555.00\n",
    "}"
   ]
  },
  {
   "cell_type": "code",
   "execution_count": 3,
   "id": "6e0d6200-7972-4b54-a981-4dbe12f38765",
   "metadata": {},
   "outputs": [],
   "source": [
    "#Define Block class\n",
    "class Block():\n",
    "    def __init__(self,\n",
    "                 index:int = 0,\n",
    "                 transactions:list = [],\n",
    "                 timestamp:int = 0,\n",
    "                 cur_hash:str = \"\",\n",
    "                 previous_hash:str = \"\",\n",
    "                 nonce:int = 0):\n",
    "        \n",
    "        self.index:int = index\n",
    "        self.transactions:list = transactions\n",
    "        self.timestamp = timestamp\n",
    "        self.hash:str = cur_hash\n",
    "        self.previous_hash:str = previous_hash\n",
    "        self.nonce:int = nonce\n",
    "            \n",
    "    def compute_hash(self) -> str:\n",
    "        block_string = json.dumps(self.__dict__, sort_keys=True)\n",
    "        return hashlib.sha256(block_string.encode()).hexdigest()"
   ]
  },
  {
   "cell_type": "code",
   "execution_count": 4,
   "id": "1dac436f-5cd2-4db7-8bf9-c0ed29683e7f",
   "metadata": {},
   "outputs": [],
   "source": [
    "class Blockchain():     \n",
    "    def __init__(self):\n",
    "        self.unconfirmed_transactions:List[dict] = []  #mem-pool\n",
    "        self.chain:List[Block] = []\n",
    "        self.difficulty:int = 2\n",
    "        self.create_genesis_block()\n",
    "   \n",
    "    def get_last_block(self) -> Block:\n",
    "        return self.chain[-1]\n",
    "    \n",
    "    def create_genesis_block(self):\n",
    "        genesis_block = Block(index=0, transactions=[], timestamp=time.time(), previous_hash=\"0\")  \n",
    "        genesis_block.hash = genesis_block.compute_hash()\n",
    "        self.chain.append(genesis_block)\n",
    "        \n",
    "    def proof_of_work(self, block:Block) -> str:\n",
    "        computed_hash = block.compute_hash()\n",
    "        while not computed_hash.startswith('0' * self.difficulty):\n",
    "            block.nonce += 1\n",
    "            computed_hash = block.compute_hash()\n",
    "        return computed_hash\n",
    "        \n",
    "    def is_valid_proof(self, block:Block, block_hash:str) -> bool:\n",
    "        return block_hash.startswith('0' * self.difficulty) and block_hash == block.compute_hash()\n",
    "   \n",
    "    def add_block(self, block:Block, proof:str) -> bool:\n",
    "        last_block = self.get_last_block()\n",
    "        last_block.hash\n",
    "        \n",
    "        if last_block.hash != block.previous_hash:\n",
    "            return False\n",
    "        \n",
    "        if not self.is_valid_proof(block , proof):\n",
    "            return False \n",
    "    \n",
    "        block.hash = proof\n",
    "        self.chain.append(block)\n",
    "        \n",
    "        return True\n",
    "        \n",
    "        \n",
    "    def add_new_transaction(self, transaction:dict) -> None:\n",
    "        self.unconfirmed_transactions.append(transaction)\n",
    "        \n",
    "\n",
    "    def mine(self) -> int:\n",
    "        if len(self.unconfirmed_transactions)<1:\n",
    "            return -1\n",
    "        \n",
    "        last_block = self.get_last_block()\n",
    "#        self.unconfirmed_transactions.append(tx_1)#just for testing purposes.\n",
    "        \n",
    "        new_block = Block(index=last_block.index + 1,\n",
    "                         transactions=self.unconfirmed_transactions,\n",
    "                         timestamp=int(time.time()),\n",
    "                         previous_hash=last_block.hash)\n",
    " \n",
    "        proof = self.proof_of_work(new_block)\n",
    "    \n",
    "        self.add_block(new_block ,proof)\n",
    "        \n",
    "        self.unconfirmed_transactions = []\n",
    "        \n",
    "        return new_block.index"
   ]
  },
  {
   "cell_type": "code",
   "execution_count": 5,
   "id": "b73c186d-6d24-43f7-9ed9-e30df28b6b6a",
   "metadata": {},
   "outputs": [
    {
     "data": {
      "text/plain": [
       "[None, None, None]"
      ]
     },
     "execution_count": 5,
     "metadata": {},
     "output_type": "execute_result"
    }
   ],
   "source": [
    "bc = Blockchain()\n",
    "[bc.add_new_transaction(tx) for tx in [tx_1,tx_2,tx_3]]"
   ]
  },
  {
   "cell_type": "code",
   "execution_count": 6,
   "id": "c5201d00-4cee-407b-96a6-3af6abcadaa3",
   "metadata": {},
   "outputs": [
    {
     "data": {
      "text/plain": [
       "[{'addr_from': '3J98t1WpEZ73CNmQviecrnyiWrnqRhWNLy',\n",
       "  'addr_to': '1BvBMSEYstWetqTFn5Au4m4GFg7xJaNVN2',\n",
       "  'amount': 55.0},\n",
       " {'addr_from': '1BvBMSEYstWetqTFn5Au4m4GFg7xJaNVN2',\n",
       "  'addr_to': '3J98t1WpEZ73CNmQviecrnyiWrnqRhWNLy',\n",
       "  'amount': 55.0},\n",
       " {'addr_from': 'FintechStudentAddr',\n",
       "  'addr_to': 'BlackBelts',\n",
       "  'amount': 5555.0}]"
      ]
     },
     "execution_count": 6,
     "metadata": {},
     "output_type": "execute_result"
    }
   ],
   "source": [
    "bc.unconfirmed_transactions"
   ]
  },
  {
   "cell_type": "code",
   "execution_count": 7,
   "id": "4dad5d1b-5f3b-407a-8402-bcfc7c5cb3bb",
   "metadata": {},
   "outputs": [
    {
     "data": {
      "text/plain": [
       "{'index': 0,\n",
       " 'transactions': [],\n",
       " 'timestamp': 1639310996.9710813,\n",
       " 'hash': '072f1531e4d7b0a88a300b0a9b40b6e0cb071b6e83dd9b3479877f2e52158dfb',\n",
       " 'previous_hash': '0',\n",
       " 'nonce': 0}"
      ]
     },
     "execution_count": 7,
     "metadata": {},
     "output_type": "execute_result"
    }
   ],
   "source": [
    "bc.chain[0].__dict__"
   ]
  },
  {
   "cell_type": "code",
   "execution_count": 8,
   "id": "a9c95d07-605e-4644-8ca4-f36d5b5fad7b",
   "metadata": {},
   "outputs": [
    {
     "data": {
      "text/plain": [
       "{'index': 0,\n",
       " 'transactions': [],\n",
       " 'timestamp': 1639310996.9710813,\n",
       " 'hash': '072f1531e4d7b0a88a300b0a9b40b6e0cb071b6e83dd9b3479877f2e52158dfb',\n",
       " 'previous_hash': '0',\n",
       " 'nonce': 0}"
      ]
     },
     "execution_count": 8,
     "metadata": {},
     "output_type": "execute_result"
    }
   ],
   "source": [
    "bc.get_last_block().__dict__"
   ]
  },
  {
   "cell_type": "code",
   "execution_count": 9,
   "id": "2f5bfb22-ddae-4e56-b4fd-4f4de7dedf6b",
   "metadata": {},
   "outputs": [
    {
     "data": {
      "text/plain": [
       "1"
      ]
     },
     "execution_count": 9,
     "metadata": {},
     "output_type": "execute_result"
    }
   ],
   "source": [
    "bc.mine()"
   ]
  },
  {
   "cell_type": "code",
   "execution_count": 10,
   "id": "a63dd6ef-4ff7-4198-bf51-55f952c19d9b",
   "metadata": {},
   "outputs": [
    {
     "data": {
      "text/plain": [
       "{'index': 1,\n",
       " 'transactions': [{'addr_from': '3J98t1WpEZ73CNmQviecrnyiWrnqRhWNLy',\n",
       "   'addr_to': '1BvBMSEYstWetqTFn5Au4m4GFg7xJaNVN2',\n",
       "   'amount': 55.0},\n",
       "  {'addr_from': '1BvBMSEYstWetqTFn5Au4m4GFg7xJaNVN2',\n",
       "   'addr_to': '3J98t1WpEZ73CNmQviecrnyiWrnqRhWNLy',\n",
       "   'amount': 55.0},\n",
       "  {'addr_from': 'FintechStudentAddr',\n",
       "   'addr_to': 'BlackBelts',\n",
       "   'amount': 5555.0}],\n",
       " 'timestamp': 1639310997,\n",
       " 'hash': '009b7cd5cc6997c3c0f493a2da372e04ac49284f46c43f72a2ddb2b877f79c73',\n",
       " 'previous_hash': '072f1531e4d7b0a88a300b0a9b40b6e0cb071b6e83dd9b3479877f2e52158dfb',\n",
       " 'nonce': 656}"
      ]
     },
     "execution_count": 10,
     "metadata": {},
     "output_type": "execute_result"
    }
   ],
   "source": [
    "bc.get_last_block().__dict__"
   ]
  },
  {
   "cell_type": "code",
   "execution_count": 11,
   "id": "6441551d-fadb-471d-81ad-1610b42dc75a",
   "metadata": {},
   "outputs": [
    {
     "data": {
      "text/plain": [
       "'0267061eb16c636898bb6afeefc4959a18d5210d0415e315d29f2db21d048782'"
      ]
     },
     "execution_count": 11,
     "metadata": {},
     "output_type": "execute_result"
    }
   ],
   "source": [
    "b = Block()\n",
    "b.compute_hash()"
   ]
  }
 ],
 "metadata": {
  "kernelspec": {
   "display_name": "Python 3",
   "language": "python",
   "name": "python3"
  },
  "language_info": {
   "codemirror_mode": {
    "name": "ipython",
    "version": 3
   },
   "file_extension": ".py",
   "mimetype": "text/x-python",
   "name": "python",
   "nbconvert_exporter": "python",
   "pygments_lexer": "ipython3",
   "version": "3.8.8"
  }
 },
 "nbformat": 4,
 "nbformat_minor": 5
}
